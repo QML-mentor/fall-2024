{
  "cells": [
    {
      "cell_type": "code",
      "execution_count": null,
      "metadata": {
        "id": "AnYFJMI7nxMX"
      },
      "outputs": [],
      "source": [
        "%matplotlib inline"
      ]
    },
    {
      "cell_type": "markdown",
      "metadata": {
        "id": "xlgrH8DxnxMb"
      },
      "source": [
        "Importing PennyLane and NumPy\n",
        "=============================\n",
        "\n",
        "The first thing we need to do is import PennyLane, as well as the\n",
        "wrapped version of NumPy provided by Jax.\n"
      ]
    },
    {
      "cell_type": "code",
      "source": [
        "!pip install pennylane"
      ],
      "metadata": {
        "colab": {
          "base_uri": "https://localhost:8080/"
        },
        "id": "29GugkIDn78A",
        "outputId": "5cafc81e-1216-4344-c387-3220f9bbbac6"
      },
      "execution_count": null,
      "outputs": [
        {
          "output_type": "stream",
          "name": "stdout",
          "text": [
            "Collecting pennylane\n",
            "  Downloading PennyLane-0.38.0-py3-none-any.whl.metadata (9.3 kB)\n",
            "Requirement already satisfied: numpy<2.0 in /usr/local/lib/python3.10/dist-packages (from pennylane) (1.26.4)\n",
            "Requirement already satisfied: scipy in /usr/local/lib/python3.10/dist-packages (from pennylane) (1.13.1)\n",
            "Requirement already satisfied: networkx in /usr/local/lib/python3.10/dist-packages (from pennylane) (3.3)\n",
            "Collecting rustworkx>=0.14.0 (from pennylane)\n",
            "  Downloading rustworkx-0.15.1-cp38-abi3-manylinux_2_17_x86_64.manylinux2014_x86_64.whl.metadata (9.9 kB)\n",
            "Requirement already satisfied: autograd in /usr/local/lib/python3.10/dist-packages (from pennylane) (1.7.0)\n",
            "Requirement already satisfied: toml in /usr/local/lib/python3.10/dist-packages (from pennylane) (0.10.2)\n",
            "Collecting appdirs (from pennylane)\n",
            "  Downloading appdirs-1.4.4-py2.py3-none-any.whl.metadata (9.0 kB)\n",
            "Collecting autoray>=0.6.11 (from pennylane)\n",
            "  Downloading autoray-0.6.12-py3-none-any.whl.metadata (5.7 kB)\n",
            "Requirement already satisfied: cachetools in /usr/local/lib/python3.10/dist-packages (from pennylane) (5.5.0)\n",
            "Collecting pennylane-lightning>=0.38 (from pennylane)\n",
            "  Downloading PennyLane_Lightning-0.38.0-cp310-cp310-manylinux_2_28_x86_64.whl.metadata (26 kB)\n",
            "Requirement already satisfied: requests in /usr/local/lib/python3.10/dist-packages (from pennylane) (2.32.3)\n",
            "Requirement already satisfied: typing-extensions in /usr/local/lib/python3.10/dist-packages (from pennylane) (4.12.2)\n",
            "Requirement already satisfied: packaging in /usr/local/lib/python3.10/dist-packages (from pennylane) (24.1)\n",
            "Requirement already satisfied: charset-normalizer<4,>=2 in /usr/local/lib/python3.10/dist-packages (from requests->pennylane) (3.3.2)\n",
            "Requirement already satisfied: idna<4,>=2.5 in /usr/local/lib/python3.10/dist-packages (from requests->pennylane) (3.10)\n",
            "Requirement already satisfied: urllib3<3,>=1.21.1 in /usr/local/lib/python3.10/dist-packages (from requests->pennylane) (2.2.3)\n",
            "Requirement already satisfied: certifi>=2017.4.17 in /usr/local/lib/python3.10/dist-packages (from requests->pennylane) (2024.8.30)\n",
            "Downloading PennyLane-0.38.0-py3-none-any.whl (1.9 MB)\n",
            "\u001b[2K   \u001b[90m━━━━━━━━━━━━━━━━━━━━━━━━━━━━━━━━━━━━━━━━\u001b[0m \u001b[32m1.9/1.9 MB\u001b[0m \u001b[31m21.2 MB/s\u001b[0m eta \u001b[36m0:00:00\u001b[0m\n",
            "\u001b[?25hDownloading autoray-0.6.12-py3-none-any.whl (50 kB)\n",
            "\u001b[2K   \u001b[90m━━━━━━━━━━━━━━━━━━━━━━━━━━━━━━━━━━━━━━━━\u001b[0m \u001b[32m51.0/51.0 kB\u001b[0m \u001b[31m712.1 kB/s\u001b[0m eta \u001b[36m0:00:00\u001b[0m\n",
            "\u001b[?25hDownloading PennyLane_Lightning-0.38.0-cp310-cp310-manylinux_2_28_x86_64.whl (15.3 MB)\n",
            "\u001b[2K   \u001b[90m━━━━━━━━━━━━━━━━━━━━━━━━━━━━━━━━━━━━━━━━\u001b[0m \u001b[32m15.3/15.3 MB\u001b[0m \u001b[31m20.2 MB/s\u001b[0m eta \u001b[36m0:00:00\u001b[0m\n",
            "\u001b[?25hDownloading rustworkx-0.15.1-cp38-abi3-manylinux_2_17_x86_64.manylinux2014_x86_64.whl (2.0 MB)\n",
            "\u001b[2K   \u001b[90m━━━━━━━━━━━━━━━━━━━━━━━━━━━━━━━━━━━━━━━━\u001b[0m \u001b[32m2.0/2.0 MB\u001b[0m \u001b[31m45.7 MB/s\u001b[0m eta \u001b[36m0:00:00\u001b[0m\n",
            "\u001b[?25hDownloading appdirs-1.4.4-py2.py3-none-any.whl (9.6 kB)\n",
            "Installing collected packages: appdirs, rustworkx, autoray, pennylane-lightning, pennylane\n",
            "Successfully installed appdirs-1.4.4 autoray-0.6.12 pennylane-0.38.0 pennylane-lightning-0.38.0 rustworkx-0.15.1\n"
          ]
        }
      ]
    },
    {
      "cell_type": "code",
      "execution_count": null,
      "metadata": {
        "id": "AmHWd-7dnxMb"
      },
      "outputs": [],
      "source": [
        "import pennylane as qml\n",
        "from jax import numpy as np\n",
        "import jax"
      ]
    },
    {
      "cell_type": "markdown",
      "metadata": {
        "id": "e-Y2QAH6nxMb"
      },
      "source": [
        "Creating a device\n",
        "=================\n",
        "\n",
        "Before we can construct our quantum node, we need to initialize a\n",
        "**device**.\n",
        "\n",
        "Any computational object that can apply quantum operations and return a\n",
        "measurement value is called a quantum **device**.\n",
        "\n",
        "In PennyLane, a device could be a hardware device (take a look at our\n",
        "[plugins](https://pennylane.ai/plugins/#plugins)), or a software\n",
        "simulator (such as our high performance simulator\n",
        "[PennyLane-Lightning](https://docs.pennylane.ai/projects/lightning/en/stable/)).\n",
        "\n",
        "\n",
        "PennyLane supports devices using both the qubit model of quantum\n",
        "computation and devices using the CV model of quantum computation. In\n",
        "fact, even a hybrid computation containing both qubit and CV quantum\n",
        "nodes is possible.\n",
        "\n",
        "For this tutorial, we are using the qubit model, so let\\'s initialize\n",
        "the `'lightning.qubit'` device provided by PennyLane.\n"
      ]
    },
    {
      "cell_type": "code",
      "execution_count": null,
      "metadata": {
        "id": "ynXWhHKLnxMc"
      },
      "outputs": [],
      "source": [
        "dev1 = qml.device(\"lightning.qubit\", wires=1)"
      ]
    },
    {
      "cell_type": "code",
      "source": [
        "dev1.__dir__()\n",
        "dev1.shots"
      ],
      "metadata": {
        "colab": {
          "base_uri": "https://localhost:8080/"
        },
        "id": "3DgQ3Zpc_y1-",
        "outputId": "9160c6c4-eee0-42ab-d517-13e8c1154dd8"
      },
      "execution_count": null,
      "outputs": [
        {
          "output_type": "execute_result",
          "data": {
            "text/plain": [
              "Shots(total_shots=None, shot_vector=())"
            ]
          },
          "metadata": {},
          "execution_count": 9
        }
      ]
    },
    {
      "cell_type": "markdown",
      "metadata": {
        "id": "ufFZm7LYnxMc"
      },
      "source": [
        "For all devices, `~.pennylane.device`\n",
        "accepts the following arguments:\n",
        "\n",
        "-   `name`: the name of the device to be loaded\n",
        "-   `wires`: the number of subsystems to initialize the device with\n",
        "\n",
        "Here, as we only require a single qubit for this example, we set\n",
        "`wires=1`.\n"
      ]
    },
    {
      "cell_type": "markdown",
      "metadata": {
        "id": "3yT4U2uAnxMc"
      },
      "source": [
        "Constructing the QNode\n",
        "======================\n",
        "\n",
        "Now that we have initialized our device, we can begin to construct a\n",
        "**quantum node** (or QNode).\n",
        "\n",
        "Definition\n",
        "\n",
        "QNodes are an abstract encapsulation of a quantum function, described by\n",
        "a quantum circuit. QNodes are bound to a particular quantum device,\n",
        "which is used to evaluate expectation and variance values of this\n",
        "circuit.\n",
        "\n",
        "\n",
        "*QNodes can be constructed via the*\n",
        "`~.pennylane.QNode` *class, or by using\n",
        "the provided* `~.pennylane.qnode`\n",
        "decorator.\n",
        "\n",
        "First, we need to define the quantum function that will be evaluated in\n",
        "the QNode:\n"
      ]
    },
    {
      "cell_type": "code",
      "execution_count": null,
      "metadata": {
        "id": "BuhbmFUrnxMc"
      },
      "outputs": [],
      "source": [
        "def circuit(params):\n",
        "    qml.RX(params[0], wires=0)\n",
        "    qml.RY(params[1], wires=0)\n",
        "    return qml.expval(qml.PauliZ(0))"
      ]
    },
    {
      "cell_type": "markdown",
      "metadata": {
        "id": "6p4i-GJBnxMc"
      },
      "source": [
        "This is a simple circuit, matching the one described above. Notice that\n",
        "the function `circuit()` is constructed as if it were any other Python\n",
        "function; it accepts a positional argument `params`, which may be a\n",
        "list, tuple, or array, and uses the individual elements for gate\n",
        "parameters.\n",
        "\n",
        "However, quantum functions are a **restricted subset** of Python\n",
        "functions. For a Python function to also be a valid quantum function,\n",
        "there are some important restrictions:\n",
        "\n",
        "-   **Quantum functions must contain quantum operations, one operation\n",
        "    per line, in the order in which they are to be applied.**\n",
        "\n",
        "    In addition, we must always specify the subsystem the operation\n",
        "    applies to, by passing the `wires` argument; this may be a list or\n",
        "    an integer, depending on how many wires the operation acts on.\n",
        "\n",
        "    For a full list of quantum operations, see\n",
        "    `the documentation <introduction/operations>`.\n",
        "\n",
        "-   **Quantum functions must return either a single or a tuple of\n",
        "    measured observables**.\n",
        "\n",
        "    As a result, the quantum function always returns a classical\n",
        "    quantity, allowing the QNode to interface with other classical\n",
        "    functions (and also other QNodes).\n",
        "\n",
        "    For a full list of observables, see\n",
        "    `the documentation <introduction/operations>`. The documentation also provides details on supported\n",
        "    `measurement return types <introduction/measurements>`.\n",
        "\n",
        "\n",
        "Once we have written the quantum function, we convert it into a\n",
        "`~.pennylane.QNode` running on device\n",
        "`dev1` by applying the `~.pennylane.qnode` decorator. **directly above** the function definition:\n"
      ]
    },
    {
      "cell_type": "code",
      "execution_count": null,
      "metadata": {
        "id": "RvFuMcX1nxMd"
      },
      "outputs": [],
      "source": [
        "@qml.qnode(dev1)\n",
        "def circuit(params):\n",
        "    qml.RX(params[0], wires=0)\n",
        "    qml.RY(params[1], wires=0)\n",
        "    return qml.expval(qml.PauliZ(0))"
      ]
    },
    {
      "cell_type": "code",
      "source": [
        "circuit.device = qml.device(\"default.qubit\", wires=1)"
      ],
      "metadata": {
        "id": "mkosx-0zBbHP"
      },
      "execution_count": null,
      "outputs": []
    },
    {
      "cell_type": "code",
      "source": [
        "circuit"
      ],
      "metadata": {
        "colab": {
          "base_uri": "https://localhost:8080/"
        },
        "id": "qQAwHNAoB6YN",
        "outputId": "7720fa4a-191f-4e83-c924-a755170152fd"
      },
      "execution_count": null,
      "outputs": [
        {
          "output_type": "execute_result",
          "data": {
            "text/plain": [
              "<QNode: device='<default.qubit device (wires=1) at 0x796c886b62f0>', interface='auto', diff_method='best'>"
            ]
          },
          "metadata": {},
          "execution_count": 15
        }
      ]
    },
    {
      "cell_type": "markdown",
      "metadata": {
        "id": "Rk_yfOcFnxMd"
      },
      "source": [
        "Thus, our `circuit()` quantum function is now a\n",
        "`~.pennylane.QNode`, which will run on\n",
        "device `dev1` every time it is evaluated.\n",
        "\n",
        "To evaluate, we simply call the function with some appropriate numerical\n",
        "inputs:\n"
      ]
    },
    {
      "cell_type": "code",
      "execution_count": null,
      "metadata": {
        "colab": {
          "base_uri": "https://localhost:8080/"
        },
        "id": "C_gt2Nn1nxMd",
        "outputId": "13de5eb0-56db-44c5-d647-c0c93a9e35b2"
      },
      "outputs": [
        {
          "output_type": "stream",
          "name": "stdout",
          "text": [
            "0.85154057\n"
          ]
        }
      ],
      "source": [
        "params = np.array([0.54, 0.12])\n",
        "print(circuit(params))"
      ]
    },
    {
      "cell_type": "markdown",
      "metadata": {
        "id": "GmdO3SagnxMd"
      },
      "source": [
        "Calculating quantum gradients\n",
        "=============================\n",
        "\n",
        "The gradient of the function `circuit`, encapsulated within the `QNode`,\n",
        "can be evaluated by utilizing the same quantum device (`dev1`) that we\n",
        "used to evaluate the function itself.\n",
        "\n",
        "PennyLane incorporates both analytic differentiation, as well as\n",
        "numerical methods (such as the method of finite differences). Both of\n",
        "these are done automatically.\n",
        "\n",
        "We can differentiate by using the jax.grad function. This\n",
        "returns another function, representing the gradient (i.e., the vector of\n",
        "partial derivatives) of `circuit`. The gradient can be evaluated in the\n",
        "same way as the original function:\n"
      ]
    },
    {
      "cell_type": "code",
      "execution_count": null,
      "metadata": {
        "id": "JGOsAw-qnxMe"
      },
      "outputs": [],
      "source": [
        "dcircuit = jax.grad(circuit, argnums=0)"
      ]
    },
    {
      "cell_type": "markdown",
      "metadata": {
        "id": "3SWxg-dWnxMe"
      },
      "source": [
        "The function jax.grad itself **returns a function**,\n",
        "representing the derivative of the QNode with respect to the argument\n",
        "specified in `argnums`. In this case, the function `circuit` takes one\n",
        "argument (`params`), so we specify `argnums=0`. Because the argument has\n",
        "two elements, the returned gradient is two-dimensional. We can then\n",
        "evaluate this gradient function at any point in the parameter space.\n"
      ]
    },
    {
      "cell_type": "code",
      "execution_count": null,
      "metadata": {
        "colab": {
          "base_uri": "https://localhost:8080/"
        },
        "id": "rj5aONNFnxMe",
        "outputId": "0cc3061d-28d2-436a-9cc3-b08583aab6a7"
      },
      "outputs": [
        {
          "output_type": "stream",
          "name": "stdout",
          "text": [
            "[-0.5104387  -0.10267819]\n"
          ]
        }
      ],
      "source": [
        "print(dcircuit(params))"
      ]
    },
    {
      "cell_type": "markdown",
      "metadata": {
        "id": "-Asdqxk2nxMe"
      },
      "source": [
        "**A note on arguments**\n",
        "\n",
        "Quantum circuit functions, being a restricted subset of Python\n",
        "functions, can also make use of multiple positional arguments and\n",
        "keyword arguments. For example, we could have defined the above quantum\n",
        "circuit function using two positional arguments, instead of one array\n",
        "argument:\n"
      ]
    },
    {
      "cell_type": "code",
      "execution_count": null,
      "metadata": {
        "id": "7-QSYI8pnxMf"
      },
      "outputs": [],
      "source": [
        "@qml.qnode(dev1)\n",
        "def circuit2(phi1, phi2):\n",
        "    qml.RX(phi1, wires=0)\n",
        "    qml.RY(phi2, wires=0)\n",
        "    return qml.expval(qml.PauliZ(0))"
      ]
    },
    {
      "cell_type": "markdown",
      "metadata": {
        "id": "VVVusFfbnxMf"
      },
      "source": [
        "When we calculate the gradient for such a function, the usage of\n",
        "`argnums` will be slightly different. In this case, `argnums=0` will\n",
        "return the gradient with respect to only the first parameter (`phi1`),\n",
        "and `argnums=1` will give the gradient for `phi2`. To get the gradient\n",
        "with respect to both parameters, we can use `argnums=[0,1]`:\n"
      ]
    },
    {
      "cell_type": "code",
      "execution_count": null,
      "metadata": {
        "colab": {
          "base_uri": "https://localhost:8080/"
        },
        "id": "tUbzstA6nxMf",
        "outputId": "5a10c975-59ce-4611-9382-0dbea5ecf3eb"
      },
      "outputs": [
        {
          "output_type": "stream",
          "name": "stdout",
          "text": [
            "(Array(-0.5104387, dtype=float32), Array(-0.10267819, dtype=float32))\n"
          ]
        }
      ],
      "source": [
        "phi1 = np.array(0.54)\n",
        "phi2 = np.array(0.12)\n",
        "\n",
        "dcircuit = jax.grad(circuit2, argnums=[0, 1])\n",
        "print(dcircuit(phi1, phi2))"
      ]
    },
    {
      "cell_type": "markdown",
      "metadata": {
        "id": "KsDgtqn0nxMg"
      },
      "source": [
        "Keyword arguments may also be used in your custom quantum function.\n",
        "PennyLane does **not** differentiate QNodes with respect to keyword\n",
        "arguments, so they are useful for passing external data to your QNode.\n"
      ]
    },
    {
      "cell_type": "markdown",
      "metadata": {
        "id": "yAwHmU29nxMh"
      },
      "source": [
        "Optimization\n",
        "============\n",
        "\n",
        "\n",
        "If using the default NumPy/Autograd interface, PennyLane provides a\n",
        "collection of optimizers based on gradient descent. These optimizers\n",
        "accept a cost function and initial parameters, and utilize PennyLane\\'s\n",
        "automatic differentiation to perform gradient descent.\n",
        "\n",
        "*See* `introduction/interfaces` *for\n",
        "details and documentation of available optimizers*\n",
        "\n",
        "Next, let\\'s make use of PennyLane\\'s built-in optimizers to optimize\n",
        "the two circuit parameters $\\phi_1$ and $\\phi_2$ such that the qubit,\n",
        "originally in state $\\left|0\\right\\rangle,$ is rotated to be in state\n",
        "$\\left|1\\right\\rangle.$ This is equivalent to measuring a Pauli-Z\n",
        "expectation value of $-1,$ since the state $\\left|1\\right\\rangle$ is an\n",
        "eigenvector of the Pauli-Z matrix with eigenvalue $\\lambda=-1.$\n",
        "\n",
        "To do so, we need to define a **cost** function. By *minimizing* the\n",
        "cost function, the optimizer will determine the values of the circuit\n",
        "parameters that produce the desired outcome.\n",
        "\n",
        "In this case, our desired outcome is a Pauli-Z expectation value of\n",
        "$-1.$ Since we know that the Pauli-Z expectation is bound between\n",
        "$[-1, 1],$ we can define our cost directly as the output of the QNode:\n"
      ]
    },
    {
      "cell_type": "code",
      "execution_count": null,
      "metadata": {
        "id": "cy8kcEpBnxMi"
      },
      "outputs": [],
      "source": [
        "def cost(x):\n",
        "    return circuit(x)"
      ]
    },
    {
      "cell_type": "markdown",
      "metadata": {
        "id": "Hgs656SsnxMi"
      },
      "source": [
        "To begin our optimization, let\\'s choose small initial values of\n",
        "$\\phi_1$ and $\\phi_2:$\n"
      ]
    },
    {
      "cell_type": "code",
      "execution_count": null,
      "metadata": {
        "colab": {
          "base_uri": "https://localhost:8080/"
        },
        "id": "nFWBK5gQnxMi",
        "outputId": "5e8c62da-5ba5-4bfe-bbe7-a9b8fad98312"
      },
      "outputs": [
        {
          "output_type": "stream",
          "name": "stdout",
          "text": [
            "0.97517043\n"
          ]
        }
      ],
      "source": [
        "init_params = np.array([0.1, 0.2])\n",
        "print(cost(init_params))"
      ]
    },
    {
      "cell_type": "markdown",
      "metadata": {
        "id": "KOnuyhwgnxMi"
      },
      "source": [
        "We can see that, for these initial parameter values, the cost function\n",
        "is close to $1.$\n",
        "\n",
        "Finally, we use an optimizer to update the circuit parameters for 100\n",
        "steps. We can use the gradient descent optimizer:\n"
      ]
    },
    {
      "cell_type": "code",
      "source": [
        "!pip install jaxopt"
      ],
      "metadata": {
        "colab": {
          "base_uri": "https://localhost:8080/"
        },
        "id": "TtZy8KhvqXim",
        "outputId": "8d784d50-c0a7-4f82-8035-4e4d2f6a65f0"
      },
      "execution_count": null,
      "outputs": [
        {
          "output_type": "stream",
          "name": "stdout",
          "text": [
            "Requirement already satisfied: jaxopt in /usr/local/lib/python3.10/dist-packages (0.8.3)\n",
            "Requirement already satisfied: jax>=0.2.18 in /usr/local/lib/python3.10/dist-packages (from jaxopt) (0.4.33)\n",
            "Requirement already satisfied: jaxlib>=0.1.69 in /usr/local/lib/python3.10/dist-packages (from jaxopt) (0.4.33)\n",
            "Requirement already satisfied: numpy>=1.18.4 in /usr/local/lib/python3.10/dist-packages (from jaxopt) (1.26.4)\n",
            "Requirement already satisfied: scipy>=1.0.0 in /usr/local/lib/python3.10/dist-packages (from jaxopt) (1.13.1)\n",
            "Requirement already satisfied: ml-dtypes>=0.2.0 in /usr/local/lib/python3.10/dist-packages (from jax>=0.2.18->jaxopt) (0.4.1)\n",
            "Requirement already satisfied: opt-einsum in /usr/local/lib/python3.10/dist-packages (from jax>=0.2.18->jaxopt) (3.4.0)\n"
          ]
        }
      ]
    },
    {
      "cell_type": "code",
      "execution_count": null,
      "metadata": {
        "colab": {
          "base_uri": "https://localhost:8080/"
        },
        "id": "hks0DtoDnxMi",
        "outputId": "e00a2682-3cbe-4771-80bb-60a4cf103a7a"
      },
      "outputs": [
        {
          "output_type": "stream",
          "name": "stdout",
          "text": [
            "Cost after step     5:  0.4959122\n",
            "Cost after step    10: -0.7487059\n",
            "Cost after step    15: -0.9976520\n",
            "Cost after step    20: -0.9999857\n",
            "Cost after step    25: -0.9999999\n",
            "Cost after step    30: -1.0000000\n",
            "Cost after step    35: -1.0000000\n",
            "Cost after step    40: -1.0000000\n",
            "Cost after step    45: -1.0000000\n",
            "Cost after step    50: -1.0000000\n",
            "Cost after step    55: -1.0000000\n",
            "Cost after step    60: -1.0000000\n",
            "Cost after step    65: -1.0000000\n",
            "Cost after step    70: -1.0000000\n",
            "Cost after step    75: -1.0000000\n",
            "Cost after step    80: -1.0000000\n",
            "Cost after step    85: -1.0000000\n",
            "Cost after step    90: -1.0000000\n",
            "Cost after step    95: -1.0000000\n",
            "Cost after step   100: -1.0000000\n",
            "Optimized rotation angles: [5.3868465e-21 3.1415925e+00]\n"
          ]
        }
      ],
      "source": [
        "import jaxopt\n",
        "\n",
        "# initialise the optimizer\n",
        "opt = jaxopt.GradientDescent(cost, stepsize=0.4, acceleration = False)\n",
        "\n",
        "# set the number of steps\n",
        "steps = 100\n",
        "# set the initial parameter values\n",
        "params = init_params\n",
        "opt_state = opt.init_state(params)\n",
        "\n",
        "for i in range(steps):\n",
        "    # update the circuit parameters\n",
        "    params, opt_state = opt.update(params, opt_state)\n",
        "\n",
        "    if (i + 1) % 5 == 0:\n",
        "        print(\"Cost after step {:5d}: {: .7f}\".format(i + 1, cost(params)))\n",
        "\n",
        "print(\"Optimized rotation angles: {}\".format(params))"
      ]
    },
    {
      "cell_type": "markdown",
      "metadata": {
        "id": "nEf5QJ1wnxMj"
      },
      "source": [
        "We can see that the optimization converges after approximately 40 steps.\n",
        "\n",
        "Substituting this into the theoretical result\n",
        "$\\langle \\psi \\mid \\sigma_z \\mid \\psi \\rangle = \\cos\\phi_1\\cos\\phi_2,$\n",
        "we can verify that this is indeed one possible value of the circuit\n",
        "parameters that produces\n",
        "$\\langle \\psi \\mid \\sigma_z \\mid \\psi \\rangle=-1,$ resulting in the\n",
        "qubit being rotated to the state $\\left|1\\right\\rangle.$\n",
        "\n",
        "Note\n",
        "\n",
        "\n",
        "Some optimizers, such as\n",
        "`~.pennylane.AdagradOptimizer`, have\n",
        "internal hyperparameters that are stored in the optimizer instance.\n",
        "These can be reset using the `reset`\n",
        "method.\n"
      ]
    },
    {
      "cell_type": "code",
      "source": [],
      "metadata": {
        "id": "3DaceqpJqF19"
      },
      "execution_count": null,
      "outputs": []
    }
  ],
  "metadata": {
    "kernelspec": {
      "display_name": "Python 3",
      "language": "python",
      "name": "python3"
    },
    "language_info": {
      "codemirror_mode": {
        "name": "ipython",
        "version": 3
      },
      "file_extension": ".py",
      "mimetype": "text/x-python",
      "name": "python",
      "nbconvert_exporter": "python",
      "pygments_lexer": "ipython3",
      "version": "3.10.15"
    },
    "colab": {
      "provenance": []
    }
  },
  "nbformat": 4,
  "nbformat_minor": 0
}