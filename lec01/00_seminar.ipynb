{
  "cells": [
    {
      "cell_type": "markdown",
      "metadata": {
        "id": "MGKpT4_8T1JJ"
      },
      "source": [
        "# Introduction to Python Basics\n",
        "\n",
        "Welcome to the first seminar of the course \"Introduction to PyTorch\". This notebook will cover basic Python concepts that will be helpful as we move forward with PyTorch."
      ]
    },
    {
      "cell_type": "code",
      "source": [
        "import this"
      ],
      "metadata": {
        "colab": {
          "base_uri": "https://localhost:8080/"
        },
        "id": "y1c5JCZ5T4de",
        "outputId": "1804a2f9-4200-4933-ba70-b54e7880d1f9"
      },
      "execution_count": 1,
      "outputs": [
        {
          "output_type": "stream",
          "name": "stdout",
          "text": [
            "The Zen of Python, by Tim Peters\n",
            "\n",
            "Beautiful is better than ugly.\n",
            "Explicit is better than implicit.\n",
            "Simple is better than complex.\n",
            "Complex is better than complicated.\n",
            "Flat is better than nested.\n",
            "Sparse is better than dense.\n",
            "Readability counts.\n",
            "Special cases aren't special enough to break the rules.\n",
            "Although practicality beats purity.\n",
            "Errors should never pass silently.\n",
            "Unless explicitly silenced.\n",
            "In the face of ambiguity, refuse the temptation to guess.\n",
            "There should be one-- and preferably only one --obvious way to do it.\n",
            "Although that way may not be obvious at first unless you're Dutch.\n",
            "Now is better than never.\n",
            "Although never is often better than *right* now.\n",
            "If the implementation is hard to explain, it's a bad idea.\n",
            "If the implementation is easy to explain, it may be a good idea.\n",
            "Namespaces are one honking great idea -- let's do more of those!\n"
          ]
        }
      ]
    },
    {
      "cell_type": "markdown",
      "metadata": {
        "id": "QvtGKk37T1JN"
      },
      "source": [
        "## Arithmetic Operations\n",
        "Let's start with some basic arithmetic operations in Python."
      ]
    },
    {
      "cell_type": "code",
      "metadata": {
        "colab": {
          "base_uri": "https://localhost:8080/"
        },
        "id": "NBhj7e1sT1JN",
        "outputId": "9902d849-8d13-483e-91aa-de4df950e0fa"
      },
      "source": [
        "# Addition\n",
        "a = 10\n",
        "b = 20\n",
        "sum = a + b\n",
        "print(\"Sum:\", sum)"
      ],
      "outputs": [
        {
          "output_type": "stream",
          "name": "stdout",
          "text": [
            "Sum: 30\n"
          ]
        }
      ],
      "execution_count": 2
    },
    {
      "metadata": {
        "colab": {
          "base_uri": "https://localhost:8080/"
        },
        "id": "6wT8-xI5T1JO",
        "outputId": "77e2e15c-22e5-4d34-ce98-e5705fe65feb"
      },
      "cell_type": "code",
      "outputs": [
        {
          "output_type": "stream",
          "name": "stdout",
          "text": [
            "Difference: -10\n"
          ]
        }
      ],
      "execution_count": 3,
      "source": [
        "# Subtraction\n",
        "difference = a - b\n",
        "print(\"Difference:\", difference)"
      ]
    },
    {
      "metadata": {
        "colab": {
          "base_uri": "https://localhost:8080/"
        },
        "id": "2eftgwYPT1JO",
        "outputId": "3741ec36-2dde-422a-c8be-34f4d2e7705d"
      },
      "cell_type": "code",
      "outputs": [
        {
          "output_type": "stream",
          "name": "stdout",
          "text": [
            "Product: 200\n"
          ]
        }
      ],
      "execution_count": 4,
      "source": [
        "# Multiplication\n",
        "product = a * b\n",
        "print(\"Product:\", product)"
      ]
    },
    {
      "metadata": {
        "colab": {
          "base_uri": "https://localhost:8080/"
        },
        "id": "n-1013F2T1JP",
        "outputId": "061a7f0c-0641-48d1-e7c5-08b26cbdc689"
      },
      "cell_type": "code",
      "outputs": [
        {
          "output_type": "stream",
          "name": "stdout",
          "text": [
            "Quotient: 0.5\n"
          ]
        }
      ],
      "execution_count": 5,
      "source": [
        "# Division\n",
        "quotient = a / b\n",
        "print(\"Quotient:\", quotient)"
      ]
    },
    {
      "metadata": {
        "colab": {
          "base_uri": "https://localhost:8080/"
        },
        "id": "AY94inlxT1JP",
        "outputId": "ba91e77e-50a5-4ebe-f239-0ab5013bd084"
      },
      "cell_type": "code",
      "outputs": [
        {
          "output_type": "stream",
          "name": "stdout",
          "text": [
            "Exponent: 100\n"
          ]
        }
      ],
      "execution_count": 6,
      "source": [
        "# Exponent\n",
        "exp = a ** 2\n",
        "print(\"Exponent:\", exp)"
      ]
    },
    {
      "metadata": {
        "colab": {
          "base_uri": "https://localhost:8080/"
        },
        "id": "MAKEwZmzT1JP",
        "outputId": "b1e56bfc-b98b-4af7-fc7f-c3f83871dc48"
      },
      "cell_type": "code",
      "outputs": [
        {
          "output_type": "stream",
          "name": "stdout",
          "text": [
            "Modulus: 10\n"
          ]
        }
      ],
      "execution_count": 7,
      "source": [
        "# Modulus\n",
        "mod = a % b\n",
        "print(\"Modulus:\", mod)"
      ]
    },
    {
      "cell_type": "markdown",
      "metadata": {
        "id": "T2jvCydnT1JP"
      },
      "source": [
        "## Data Types and Variables\n",
        "Python supports various data types. Let's explore some of the common ones."
      ]
    },
    {
      "cell_type": "code",
      "source": [
        "5 // 3"
      ],
      "metadata": {
        "colab": {
          "base_uri": "https://localhost:8080/"
        },
        "id": "0FbDGwTV9Uef",
        "outputId": "934e497a-4642-4515-c3f7-2eaa57a378b5"
      },
      "execution_count": 9,
      "outputs": [
        {
          "output_type": "execute_result",
          "data": {
            "text/plain": [
              "1"
            ]
          },
          "metadata": {},
          "execution_count": 9
        }
      ]
    },
    {
      "cell_type": "code",
      "metadata": {
        "colab": {
          "base_uri": "https://localhost:8080/"
        },
        "id": "M_xBnss4T1JQ",
        "outputId": "b8693920-9bd2-4f5c-ee39-8b0e84b469ed"
      },
      "source": [
        "# Integer\n",
        "num = 1e-4\n",
        "print(\"Integer:\", num, type(num))"
      ],
      "outputs": [
        {
          "output_type": "stream",
          "name": "stdout",
          "text": [
            "Integer: 0.0001 <class 'float'>\n"
          ]
        }
      ],
      "execution_count": 13
    },
    {
      "metadata": {
        "colab": {
          "base_uri": "https://localhost:8080/"
        },
        "id": "ac9L-nHXT1JQ",
        "outputId": "13d4714e-82c6-4e47-cfb2-c136ebe8b723"
      },
      "cell_type": "code",
      "outputs": [
        {
          "output_type": "stream",
          "name": "stdout",
          "text": [
            "Float: 3.14 <class 'float'>\n"
          ]
        }
      ],
      "execution_count": 14,
      "source": [
        "# Float\n",
        "pi = 3.14\n",
        "print(\"Float:\", pi, type(pi))"
      ]
    },
    {
      "metadata": {
        "colab": {
          "base_uri": "https://localhost:8080/"
        },
        "id": "0vC2u96lT1JQ",
        "outputId": "24ef08ac-ad98-4b9c-c7af-ade8b358c1ad"
      },
      "cell_type": "code",
      "outputs": [
        {
          "output_type": "stream",
          "name": "stdout",
          "text": [
            "String: Hello, PyTorch! <class 'str'>\n"
          ]
        }
      ],
      "execution_count": 15,
      "source": [
        "# String\n",
        "text = \"Hello, PyTorch!\"\n",
        "print(\"String:\", text, type(text))"
      ]
    },
    {
      "metadata": {
        "colab": {
          "base_uri": "https://localhost:8080/"
        },
        "id": "Ee3vTNuKT1JQ",
        "outputId": "4d24744d-6fcf-466d-9af6-ab0ef0030e03"
      },
      "cell_type": "code",
      "outputs": [
        {
          "output_type": "stream",
          "name": "stdout",
          "text": [
            "Boolean: True <class 'bool'>\n"
          ]
        }
      ],
      "execution_count": 16,
      "source": [
        "# Boolean\n",
        "flag = True\n",
        "print(\"Boolean:\", flag, type(flag))"
      ]
    },
    {
      "cell_type": "markdown",
      "metadata": {
        "id": "JIyf9i9XT1JR"
      },
      "source": [
        "## Lists\n",
        "Lists are used to store multiple items in a single variable."
      ]
    },
    {
      "cell_type": "code",
      "metadata": {
        "colab": {
          "base_uri": "https://localhost:8080/"
        },
        "id": "mNXATuvHT1JR",
        "outputId": "9ae994a1-a6a3-4d8a-d096-6d2b57372a15"
      },
      "source": [
        "# Creating a list\n",
        "fruits = [\"Apple\", \"Banana\", \"Orange\"]\n",
        "print(\"List:\", fruits)"
      ],
      "outputs": [
        {
          "output_type": "stream",
          "name": "stdout",
          "text": [
            "List: ['Apple', 'Banana', 'Orange']\n"
          ]
        }
      ],
      "execution_count": 17
    },
    {
      "cell_type": "code",
      "source": [
        "fruits"
      ],
      "metadata": {
        "colab": {
          "base_uri": "https://localhost:8080/"
        },
        "id": "5L2KMRBZ9sk9",
        "outputId": "ab419f75-3bb5-46db-9ede-79170c654ae6"
      },
      "execution_count": 18,
      "outputs": [
        {
          "output_type": "execute_result",
          "data": {
            "text/plain": [
              "['Apple', 'Banana', 'Orange']"
            ]
          },
          "metadata": {},
          "execution_count": 18
        }
      ]
    },
    {
      "metadata": {
        "colab": {
          "base_uri": "https://localhost:8080/"
        },
        "id": "XtxsBpRoT1JR",
        "outputId": "e499266b-7348-4dd2-ce88-f1af1620e5f1"
      },
      "cell_type": "code",
      "outputs": [
        {
          "output_type": "stream",
          "name": "stdout",
          "text": [
            "First Element: Apple\n"
          ]
        }
      ],
      "execution_count": 19,
      "source": [
        "# Accessing elements\n",
        "print(\"First Element:\", fruits[0])"
      ]
    },
    {
      "cell_type": "code",
      "source": [
        "fruits[-1]"
      ],
      "metadata": {
        "colab": {
          "base_uri": "https://localhost:8080/",
          "height": 35
        },
        "id": "zW2Ttpbl9w42",
        "outputId": "83fa00b0-0121-4288-a498-748803be1132"
      },
      "execution_count": 20,
      "outputs": [
        {
          "output_type": "execute_result",
          "data": {
            "text/plain": [
              "'Orange'"
            ],
            "application/vnd.google.colaboratory.intrinsic+json": {
              "type": "string"
            }
          },
          "metadata": {},
          "execution_count": 20
        }
      ]
    },
    {
      "metadata": {
        "colab": {
          "base_uri": "https://localhost:8080/"
        },
        "id": "eehxneONT1JR",
        "outputId": "c1ecdfd7-ceb3-4136-b257-1c9820bdaf6b"
      },
      "cell_type": "code",
      "outputs": [
        {
          "output_type": "stream",
          "name": "stdout",
          "text": [
            "List after append: ['Apple', 'Banana', 'Orange', 'Mango']\n"
          ]
        }
      ],
      "execution_count": 21,
      "source": [
        "# Adding an element\n",
        "fruits.append(\"Mango\")\n",
        "print(\"List after append:\", fruits)"
      ]
    },
    {
      "metadata": {
        "colab": {
          "base_uri": "https://localhost:8080/"
        },
        "id": "1ylqMpI-T1JR",
        "outputId": "bd30f65f-9551-4f83-dcea-45e328194adb"
      },
      "cell_type": "code",
      "outputs": [
        {
          "output_type": "stream",
          "name": "stdout",
          "text": [
            "List after remove: ['Apple', 'Orange', 'Mango']\n"
          ]
        }
      ],
      "execution_count": 22,
      "source": [
        "# Remove an element\n",
        "fruits.remove(\"Banana\")\n",
        "print(\"List after remove:\", fruits)"
      ]
    },
    {
      "metadata": {
        "colab": {
          "base_uri": "https://localhost:8080/"
        },
        "id": "0e0BMth7T1JS",
        "outputId": "b71959bd-4dca-4089-f3a3-c0f900ae796a"
      },
      "cell_type": "code",
      "outputs": [
        {
          "output_type": "stream",
          "name": "stdout",
          "text": [
            "Sliced List[1:3]: ['Orange', 'Mango']\n"
          ]
        }
      ],
      "execution_count": 23,
      "source": [
        "# Slicing a list\n",
        "print(\"Sliced List[1:3]:\", fruits[1:3])"
      ]
    },
    {
      "cell_type": "code",
      "source": [
        "a = [1, 2, 3]\n",
        "b = a"
      ],
      "metadata": {
        "id": "3w4ITzQm96q6"
      },
      "execution_count": 24,
      "outputs": []
    },
    {
      "cell_type": "code",
      "source": [
        "b"
      ],
      "metadata": {
        "colab": {
          "base_uri": "https://localhost:8080/"
        },
        "id": "6xTLZ4gT-ABr",
        "outputId": "cfa06b6d-76e7-4b75-aa9b-db2ca5a51f05"
      },
      "execution_count": 27,
      "outputs": [
        {
          "output_type": "execute_result",
          "data": {
            "text/plain": [
              "[1, 2, 3]"
            ]
          },
          "metadata": {},
          "execution_count": 27
        }
      ]
    },
    {
      "cell_type": "code",
      "source": [
        "a.append(7)\n",
        "b"
      ],
      "metadata": {
        "colab": {
          "base_uri": "https://localhost:8080/"
        },
        "id": "UzO_69Au-CBu",
        "outputId": "7ffdb985-4b20-400e-dca6-193d261fe1dc"
      },
      "execution_count": 28,
      "outputs": [
        {
          "output_type": "execute_result",
          "data": {
            "text/plain": [
              "[1, 2, 3, 7]"
            ]
          },
          "metadata": {},
          "execution_count": 28
        }
      ]
    },
    {
      "cell_type": "code",
      "source": [
        "len(b)"
      ],
      "metadata": {
        "colab": {
          "base_uri": "https://localhost:8080/"
        },
        "id": "T32YQub7-130",
        "outputId": "31608ded-fa4a-416b-ae47-28f0bc13edb8"
      },
      "execution_count": 35,
      "outputs": [
        {
          "output_type": "execute_result",
          "data": {
            "text/plain": [
              "4"
            ]
          },
          "metadata": {},
          "execution_count": 35
        }
      ]
    },
    {
      "cell_type": "markdown",
      "metadata": {
        "id": "5XdtCufST1JS"
      },
      "source": [
        "## Dictionaries\n",
        "Dictionaries are used to store data values in key:value pairs."
      ]
    },
    {
      "cell_type": "code",
      "metadata": {
        "colab": {
          "base_uri": "https://localhost:8080/"
        },
        "id": "23yBpW51T1JS",
        "outputId": "2ad717a6-15ed-4712-a44e-846b964b0c97"
      },
      "source": [
        "# Creating a dictionary\n",
        "student = {\n",
        "    \"name\": \"John\",\n",
        "    \"age\": 21,\n",
        "    \"course\": \"Computer Science\"\n",
        "}\n",
        "print(\"Dictionary:\", student)"
      ],
      "outputs": [
        {
          "output_type": "stream",
          "name": "stdout",
          "text": [
            "Dictionary: {'name': 'John', 'age': 21, 'course': 'Computer Science'}\n"
          ]
        }
      ],
      "execution_count": 29
    },
    {
      "metadata": {
        "colab": {
          "base_uri": "https://localhost:8080/"
        },
        "id": "yz2kIFAlT1JS",
        "outputId": "859591fa-6554-49c4-91e6-fe593cdba853"
      },
      "cell_type": "code",
      "outputs": [
        {
          "output_type": "stream",
          "name": "stdout",
          "text": [
            "Name: John\n"
          ]
        }
      ],
      "execution_count": 30,
      "source": [
        "# Accessing values\n",
        "print(\"Name:\", student[\"name\"])"
      ]
    },
    {
      "metadata": {
        "colab": {
          "base_uri": "https://localhost:8080/"
        },
        "id": "El1ThmvlT1JT",
        "outputId": "7002d8ae-926e-40fc-8e91-2eecda24cff8"
      },
      "cell_type": "code",
      "outputs": [
        {
          "output_type": "stream",
          "name": "stdout",
          "text": [
            "Dictionary after adding grade: {'name': 'John', 'age': 21, 'course': 'Computer Science', 'grade': 'A'}\n"
          ]
        }
      ],
      "execution_count": 31,
      "source": [
        "# Adding a new key-value pair\n",
        "student[\"grade\"] = \"A\"\n",
        "print(\"Dictionary after adding grade:\", student)"
      ]
    },
    {
      "metadata": {
        "colab": {
          "base_uri": "https://localhost:8080/"
        },
        "id": "9av4ne_1T1JT",
        "outputId": "fa44f609-ba53-452a-f7ef-c0f25276d05c"
      },
      "cell_type": "code",
      "outputs": [
        {
          "output_type": "stream",
          "name": "stdout",
          "text": [
            "Dictionary after removing age: {'name': 'John', 'course': 'Computer Science', 'grade': 'A'}\n"
          ]
        }
      ],
      "execution_count": 32,
      "source": [
        "# Removing a key-value pair\n",
        "del student[\"age\"]\n",
        "print(\"Dictionary after removing age:\", student)"
      ]
    },
    {
      "cell_type": "markdown",
      "metadata": {
        "id": "H7xYU0vNT1JT"
      },
      "source": [
        "## Loops\n",
        "Loops are used to execute a block of code repeatedly."
      ]
    },
    {
      "cell_type": "code",
      "metadata": {
        "colab": {
          "base_uri": "https://localhost:8080/"
        },
        "id": "FF1ykhleT1JT",
        "outputId": "79e695e5-c840-46c0-f0ec-2aecd91767ec"
      },
      "source": [
        "# For loop\n",
        "for i in range(5):\n",
        "    print(\"Iteration\", i)"
      ],
      "outputs": [
        {
          "output_type": "stream",
          "name": "stdout",
          "text": [
            "Iteration 0\n",
            "Iteration 1\n",
            "Iteration 2\n",
            "Iteration 3\n",
            "Iteration 4\n"
          ]
        }
      ],
      "execution_count": 33
    },
    {
      "cell_type": "code",
      "source": [
        "for name in [\"A\", \"B\", \"C\"]:\n",
        "    print(name)"
      ],
      "metadata": {
        "colab": {
          "base_uri": "https://localhost:8080/"
        },
        "id": "-c6fEJRE-ndP",
        "outputId": "bacba277-1f05-409d-a4ae-18f2047114cd"
      },
      "execution_count": 34,
      "outputs": [
        {
          "output_type": "stream",
          "name": "stdout",
          "text": [
            "A\n",
            "B\n",
            "C\n"
          ]
        }
      ]
    },
    {
      "metadata": {
        "colab": {
          "base_uri": "https://localhost:8080/"
        },
        "id": "6-7-hvHeT1JT",
        "outputId": "3c404805-2731-4998-ca8d-7def1ea90c53"
      },
      "cell_type": "code",
      "outputs": [
        {
          "output_type": "stream",
          "name": "stdout",
          "text": [
            "Count: 0\n",
            "Count: 1\n",
            "Count: 2\n",
            "Count: 3\n",
            "Count: 4\n"
          ]
        }
      ],
      "execution_count": 36,
      "source": [
        "# While loop\n",
        "count = 0\n",
        "while count < 5:\n",
        "    print(\"Count:\", count)\n",
        "    count += 1"
      ]
    },
    {
      "cell_type": "markdown",
      "metadata": {
        "id": "csxwti5eT1JT"
      },
      "source": [
        "## Functions\n",
        "Functions are blocks of code that only run when they are called."
      ]
    },
    {
      "cell_type": "code",
      "metadata": {
        "id": "YeRnDaUKT1JT"
      },
      "source": [
        "# Defining a function\n",
        "def greet(name):\n",
        "    return f\"Hello, {name}!\", 123, [\"A\"]"
      ],
      "outputs": [],
      "execution_count": 37
    },
    {
      "metadata": {
        "colab": {
          "base_uri": "https://localhost:8080/"
        },
        "id": "zeJqBipNT1JU",
        "outputId": "681d0400-9694-41fb-99f3-b3d12afd05ec"
      },
      "cell_type": "code",
      "outputs": [
        {
          "output_type": "stream",
          "name": "stdout",
          "text": [
            "('Hello, Alice!', 123, ['A'])\n"
          ]
        }
      ],
      "execution_count": 38,
      "source": [
        "# Calling a function\n",
        "print(greet(\"Alice\"))"
      ]
    },
    {
      "cell_type": "markdown",
      "source": [
        "## Classes\n",
        "\n",
        "Classes are important in machine learning"
      ],
      "metadata": {
        "id": "a1V2Mi14Uqyc"
      }
    },
    {
      "cell_type": "code",
      "source": [
        "class Car:\n",
        "    def __init__(self, year=1900):\n",
        "        print(\"Creating a car\")\n",
        "        self.year = year\n",
        "\n",
        "    def i_am_car(self):\n",
        "        print(f\"I am car, {self.year}\")"
      ],
      "metadata": {
        "id": "GbEMhsOCUvch"
      },
      "execution_count": 40,
      "outputs": []
    },
    {
      "cell_type": "code",
      "source": [
        "class Ford(Car):\n",
        "    def __init__(self, year=1900):\n",
        "        super().__init__(year)\n",
        "        print(\"Creating Ford\")"
      ],
      "metadata": {
        "id": "kphd6bl1U_jw"
      },
      "execution_count": 41,
      "outputs": []
    },
    {
      "cell_type": "code",
      "source": [
        "car = Ford(year=1998)"
      ],
      "metadata": {
        "colab": {
          "base_uri": "https://localhost:8080/"
        },
        "id": "rwECsbUwVize",
        "outputId": "2970f904-0dad-466d-bfee-5d076c30eee9"
      },
      "execution_count": 42,
      "outputs": [
        {
          "output_type": "stream",
          "name": "stdout",
          "text": [
            "Creating a car\n",
            "Creating Ford\n"
          ]
        }
      ]
    },
    {
      "cell_type": "code",
      "source": [
        "car.i_am_car()"
      ],
      "metadata": {
        "colab": {
          "base_uri": "https://localhost:8080/"
        },
        "id": "As4tLmJhVl3x",
        "outputId": "1eea3b8f-9e4f-4e03-d2d1-e9a7dea3f080"
      },
      "execution_count": 43,
      "outputs": [
        {
          "output_type": "stream",
          "name": "stdout",
          "text": [
            "I am car, 1998\n"
          ]
        }
      ]
    },
    {
      "cell_type": "code",
      "source": [],
      "metadata": {
        "id": "FbaY-PQU_zrR"
      },
      "execution_count": null,
      "outputs": []
    }
  ],
  "metadata": {
    "kernelspec": {
      "display_name": "Python 3",
      "language": "python",
      "name": "python3"
    },
    "language_info": {
      "codemirror_mode": {
        "name": "ipython",
        "version": 3
      },
      "file_extension": ".py",
      "mimetype": "text/x-python",
      "name": "python",
      "nbconvert_exporter": "python",
      "pygments_lexer": "ipython3",
      "version": "3.8.5"
    },
    "colab": {
      "provenance": []
    }
  },
  "nbformat": 4,
  "nbformat_minor": 0
}